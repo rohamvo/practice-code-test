{
 "cells": [
  {
   "cell_type": "markdown",
   "metadata": {},
   "source": [
    "# 날짜 비교하기\n",
    "\n",
    "정수 배열 date1과 date2가 주어집니다. 두 배열은 각각 날짜를 나타내며 [year, month, day] 꼴로 주어집니다. 각 배열에서 year는 연도를, month는 월을, day는 날짜를 나타냅니다.\n",
    "\n",
    "만약 date1이 date2보다 앞서는 날짜라면 1을, 아니면 0을 return 하는 solution 함수를 완성해 주세요.\n",
    "\n",
    "제한사항\n",
    "- date1의 길이 = date2의 길이 = 3\n",
    "    - 0 ≤ year ≤ 10,000\n",
    "    - 1 ≤ month ≤ 12\n",
    "    - day는 month에 따라 가능한 날짜로 주어집니다.\n",
    "\n",
    "입출력 예)\n",
    "- date1 = [2021, 12, 28] / date2 = [2021, 12, 29] / result = 1\n",
    "- date1 = [1024, 10, 24] / date2 = [1024, 10, 24] / result = 0"
   ]
  },
  {
   "cell_type": "code",
   "execution_count": 1,
   "metadata": {},
   "outputs": [],
   "source": [
    "# 내가 작성한 풀이\n",
    "import datetime\n",
    "def solution(date1, date2):\n",
    "    a,b,c = date1\n",
    "    e,f,g = date2\n",
    "    date1 = datetime.datetime(a,b,c)\n",
    "    date2 = datetime.datetime(e,f,g)\n",
    "    return int(date1 < date2)"
   ]
  },
  {
   "cell_type": "code",
   "execution_count": 2,
   "metadata": {},
   "outputs": [],
   "source": [
    "def solution(date1, date2):\n",
    "    return int(date1 < date2)"
   ]
  },
  {
   "cell_type": "markdown",
   "metadata": {},
   "source": [
    "# 리스트 간 비교 연산자 사용한 풀이\n",
    "\n",
    "리스트 간 부등호(<, >)를 사용할 경우에는 첫번째 데이터부터 비교를 시작한다.\n",
    "\n",
    "만약 값이 같다면 다음번째 데이터를 비교하고 True 혹은 False 결과값이 나올때 바로 그 논리 값이 출력되어 나오게 된다.\n",
    "\n",
    "어느 날짜가 빠른지 보기 위해서는 연도, 월, 일 순으로 비교해야 하기때문에 리스트 간 부등호를 사용하여 int()로 덮어주게 되면 쉽게 풀이해낼 수 있는 문제였다.\n",
    "\n",
    "아래는 예시)"
   ]
  },
  {
   "cell_type": "code",
   "execution_count": 31,
   "metadata": {},
   "outputs": [
    {
     "data": {
      "text/plain": [
       "False"
      ]
     },
     "execution_count": 31,
     "metadata": {},
     "output_type": "execute_result"
    }
   ],
   "source": [
    "a = [1,2,3]\n",
    "b = [0,5,6]\n",
    "a<b"
   ]
  },
  {
   "cell_type": "code",
   "execution_count": 27,
   "metadata": {},
   "outputs": [
    {
     "data": {
      "text/plain": [
       "False"
      ]
     },
     "execution_count": 27,
     "metadata": {},
     "output_type": "execute_result"
    }
   ],
   "source": [
    "a = [1,2,3]\n",
    "b = [1,0,4]\n",
    "a<b"
   ]
  },
  {
   "cell_type": "code",
   "execution_count": 28,
   "metadata": {},
   "outputs": [
    {
     "data": {
      "text/plain": [
       "True"
      ]
     },
     "execution_count": 28,
     "metadata": {},
     "output_type": "execute_result"
    }
   ],
   "source": [
    "a = [1,2,3]\n",
    "b = [1,2,4]\n",
    "a<b"
   ]
  }
 ],
 "metadata": {
  "kernelspec": {
   "display_name": "base",
   "language": "python",
   "name": "python3"
  },
  "language_info": {
   "codemirror_mode": {
    "name": "ipython",
    "version": 3
   },
   "file_extension": ".py",
   "mimetype": "text/x-python",
   "name": "python",
   "nbconvert_exporter": "python",
   "pygments_lexer": "ipython3",
   "version": "3.10.12"
  },
  "orig_nbformat": 4
 },
 "nbformat": 4,
 "nbformat_minor": 2
}
