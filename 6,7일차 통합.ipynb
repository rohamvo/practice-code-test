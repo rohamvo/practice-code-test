{
 "cells": [
  {
   "cell_type": "markdown",
   "metadata": {},
   "source": [
    "# 6,7일차 통합\n",
    "\n",
    "6,7일차에는 크게 작성할 만한 것이 없었다.\n",
    "\n",
    "그나마 새로 배운것 하나를 작성해본다."
   ]
  },
  {
   "cell_type": "code",
   "execution_count": 2,
   "metadata": {},
   "outputs": [
    {
     "name": "stdout",
     "output_type": "stream",
     "text": [
      "ABCDEFGHIJKLMNOPQRSTUVWXYZ\n",
      "abcdefghijklmnopqrstuvwxyz\n"
     ]
    }
   ],
   "source": [
    "# ascii_lowercase,uppercase\n",
    "# 알파벳 리스트를 만들어 주는 메소드\n",
    "\n",
    "from string import ascii_lowercase, ascii_uppercase\n",
    "\n",
    "print(ascii_uppercase)\n",
    "print(ascii_lowercase)"
   ]
  }
 ],
 "metadata": {
  "kernelspec": {
   "display_name": "base",
   "language": "python",
   "name": "python3"
  },
  "language_info": {
   "codemirror_mode": {
    "name": "ipython",
    "version": 3
   },
   "file_extension": ".py",
   "mimetype": "text/x-python",
   "name": "python",
   "nbconvert_exporter": "python",
   "pygments_lexer": "ipython3",
   "version": "3.10.12"
  },
  "orig_nbformat": 4
 },
 "nbformat": 4,
 "nbformat_minor": 2
}
