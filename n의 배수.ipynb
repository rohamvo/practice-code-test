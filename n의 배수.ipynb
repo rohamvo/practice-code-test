{
 "cells": [
  {
   "attachments": {},
   "cell_type": "markdown",
   "metadata": {},
   "source": [
    "n의 배수\n",
    "\n",
    "정수 num과 n이 매개 변수로 주어질 때, num이 n의 배수이면 1을 return n의 배수가 아니라면 0을 return하도록 solution 함수를 완성해주세요."
   ]
  },
  {
   "cell_type": "code",
   "execution_count": null,
   "metadata": {},
   "outputs": [],
   "source": [
    "# 내가 작성한 코드\n",
    "def solution(num, n):\n",
    "    if num%n == 0 :\n",
    "        answer = 1\n",
    "    else : \n",
    "        answer = 0\n",
    "    return answer"
   ]
  },
  {
   "cell_type": "code",
   "execution_count": null,
   "metadata": {},
   "outputs": [],
   "source": [
    "# 다른 사람의 풀이\n",
    "def solution(num, n):\n",
    "    return int(not(num % n))"
   ]
  },
  {
   "attachments": {},
   "cell_type": "markdown",
   "metadata": {},
   "source": [
    "컴퓨터 과학에서 True = 1, False = 0 라는 사실은 알고 있었지만 int() 사용해서 1,0 으로 return 값을 도출하는것은 생각지도 못했다. 좋은 공부!"
   ]
  }
 ],
 "metadata": {
  "language_info": {
   "name": "python"
  },
  "orig_nbformat": 4
 },
 "nbformat": 4,
 "nbformat_minor": 2
}
