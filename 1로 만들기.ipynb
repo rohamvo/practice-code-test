{
 "cells": [
  {
   "cell_type": "markdown",
   "metadata": {},
   "source": [
    "# 1로 만들기\n",
    "\n",
    "정수가 있을 때, 짝수라면 반으로 나누고, 홀수라면 1을 뺀 뒤 반으로 나누면, 마지막엔 1이 됩니다. 예를 들어 10이 있다면 다음과 같은 과정으로 1이 됩니다.\n",
    "\n",
    "- 10 / 2 = 5\n",
    "- (5 - 1) / 2 = 4\n",
    "- 4 / 2 = 2\n",
    "- 2 / 2 = 1\n",
    "\n",
    "위와 같이 4번의 나누기 연산으로 1이 되었습니다.\n",
    "\n",
    "정수들이 담긴 리스트 num_list가 주어질 때, num_list의 모든 원소를 1로 만들기 위해서 필요한 나누기 연산의 횟수를 return하도록 solution 함수를 완성해주세요.\n",
    "\n",
    "입출력 예)\n",
    "- num_list = [12, 4, 15, 1, 14] / result = 11"
   ]
  },
  {
   "cell_type": "markdown",
   "metadata": {},
   "source": [
    "제한사항\n",
    "- 3 ≤ num_list의 길이 ≤ 15\n",
    "- 1 ≤ num_list의 원소 ≤ 30"
   ]
  },
  {
   "cell_type": "code",
   "execution_count": 2,
   "metadata": {},
   "outputs": [],
   "source": [
    "# 내가 작성한 풀이\n",
    "def solution(num_list):\n",
    "    j = 0\n",
    "    while True :\n",
    "        for i in range(len(num_list)) :\n",
    "            if num_list[i] % 2 == 0 :\n",
    "                num_list[i] = num_list[i]//2\n",
    "                j += 1\n",
    "            elif num_list[i] == 1 :\n",
    "                pass\n",
    "            else :\n",
    "                num_list[i] = (num_list[i]-1)//2\n",
    "                j+= 1\n",
    "        if 1*len(num_list) == sum(num_list) :\n",
    "            break\n",
    "    return j"
   ]
  },
  {
   "cell_type": "code",
   "execution_count": 3,
   "metadata": {},
   "outputs": [],
   "source": [
    "# 다른 사람의 풀이\n",
    "def solution(num_list):\n",
    "    return sum(len(bin(i)) - 3 for i in num_list)"
   ]
  },
  {
   "cell_type": "markdown",
   "metadata": {},
   "source": [
    "# 이진수를 이용한 풀이법\n",
    "\n",
    "\n",
    "파이썬에서 이진수\n",
    "\n",
    "- 0b는 이진수라는 표현이고 0b 이후 각자리의 값을 이진수로 변환해 각각 더하는 방식이다\n",
    "- 각 자리는 기본적으로 2의 x제곱을 표현하며 x의 크기가 클수록 왼쪽이다.\n",
    "- 특정한 정수보다 작은 수 중 가장 큰 2의 제곱값으로부터 작은 값까지 왼쪽 - > 오른쪽으로 나열하는 방식  \n",
    "- 0 = 0b0 (0)\n",
    "- 1 = 0b1 (1)\n",
    "- 2 = 0b10 (2^1)\n",
    "- 3 = 0b11 (2^1+1)\n",
    "- 4 = 0b100 (2^2)\n",
    "- 5 = 0b101 (2^2 + 0 + 1)"
   ]
  },
  {
   "cell_type": "markdown",
   "metadata": {},
   "source": [
    "위 문제에서 초기 num_list가 [12, 4, 15, 1, 14] 하였으니 이것을 모두 이진수로 변환하면\n",
    "\n",
    "['0b1100', '0b100', '0b1111', '0b1', '0b1110']이 된다.\n",
    "\n",
    "이진수의 각 자리 숫자를 제거 한다는것은 2로 나눈다는 의미이다.\n",
    "\n",
    "예를 들어 정수 12의 이진수는 '0b1100'이고 이를 2로 나눈 정수 6의 이진수는 '0b110'이다.\n",
    "\n",
    "따라서 1을 의미하는 '0b1'을 제외하고 나머지의 길이를 모두 합하면 리스트내의 모든 원소를 1로 만드는데 사용된 나누기의 횟수를 구할 수 있다."
   ]
  },
  {
   "cell_type": "markdown",
   "metadata": {},
   "source": [
    "아래 코드를 살펴보면\n",
    "\n",
    "sum(len(bin(i)) - 3 for i in num_list)\n",
    "\n",
    "for in 구문을 통해 모든 원소를 순환시켜 꺼내어 len(bin(i))를 통해 이진수의 길이를 구하고 정수 '1'에 해당하는 3자리 '0b1'의 길이를 -3을 통해 지운다음 sum 메소드를 통해 모두 더하여 리스트 내의 모든 원소를 1로 만드는데 사용된 나누기의 횟수를 구한것이다."
   ]
  }
 ],
 "metadata": {
  "kernelspec": {
   "display_name": "base",
   "language": "python",
   "name": "python3"
  },
  "language_info": {
   "codemirror_mode": {
    "name": "ipython",
    "version": 3
   },
   "file_extension": ".py",
   "mimetype": "text/x-python",
   "name": "python",
   "nbconvert_exporter": "python",
   "pygments_lexer": "ipython3",
   "version": "3.10.12"
  },
  "orig_nbformat": 4
 },
 "nbformat": 4,
 "nbformat_minor": 2
}
