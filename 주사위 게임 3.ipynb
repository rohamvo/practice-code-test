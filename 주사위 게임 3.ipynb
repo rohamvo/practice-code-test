{
 "cells": [
  {
   "cell_type": "markdown",
   "metadata": {},
   "source": [
    "# 주사위 게임 3\n",
    "\n",
    "1부터 6까지 숫자가 적힌 주사위가 네 개 있습니다. 네 주사위를 굴렸을 때 나온 숫자에 따라 다음과 같은 점수를 얻습니다.\n",
    "\n",
    "- 네 주사위에서 나온 숫자가 모두 p로 같다면 1111 × p점을 얻습니다.\n",
    "- 세 주사위에서 나온 숫자가 p로 같고 나머지 다른 주사위에서 나온 숫자가 q(p ≠ q)라면 (10 × p + q)2 점을 얻습니다.\n",
    "- 주사위가 두 개씩 같은 값이 나오고, 나온 숫자를 각각 p, q(p ≠ q)라고 한다면 (p + q) × |p - q|점을 얻습니다.\n",
    "- 어느 두 주사위에서 나온 숫자가 p로 같고 나머지 두 주사위에서 나온 숫자가 각각 p와 다른 q, r(q ≠ r)이라면 q × r점을 얻습니다.\n",
    "- 네 주사위에 적힌 숫자가 모두 다르다면 나온 숫자 중 가장 작은 숫자 만큼의 점수를 얻습니다.\n",
    "\n",
    "네 주사위를 굴렸을 때 나온 숫자가 정수 매개변수 a, b, c, d로 주어질 때, 얻는 점수를 return 하는 solution 함수를 작성해 주세요.\n",
    "\n",
    "입출력 예)\n",
    "- a = 2, b = 2, c = 2, d = 2, result = 2222\n",
    "- a = 4, b = 1, c = 4, d = 4, result = 1681\n",
    "- a = 6, b - 3, c = 3, d = 6, result = 27\n",
    "- a = 2, b = 5, c = 2, d = 6, result = 30\n",
    "- a = 6, b = 4, c = 2, d = 5, result = 2"
   ]
  },
  {
   "cell_type": "code",
   "execution_count": 2,
   "metadata": {},
   "outputs": [],
   "source": [
    "# 내가 작성한 풀이\n",
    "from collections import Counter\n",
    "def solution(a, b, c, d):\n",
    "    answer = 0\n",
    "    count = Counter([a,b,c,d])\n",
    "    sort_value = sorted(count.items(), key = lambda item : item[1]) # value 기준 정렬\n",
    "    reverse_count = {v:k for k,v in count.items()} # key 와 value의 위치 변경\n",
    "    if len(count) == 1 :\n",
    "        answer = reverse_count[4] * 1111\n",
    "    elif len(count) == 2 : # Counter 함수를 이용해서 2가 나오는 경우는 2가지 / 3개의 숫자가 같고 1개의 다른경우, 2개의 숫자끼리 같은 경우 \n",
    "        if 3 in reverse_count.keys() :\n",
    "            answer = (10 * reverse_count[3] + reverse_count[1])**2 \n",
    "            # 조건대로 3개의 숫자가 같은 경우와 1개의 숫자가 같은 경우를 구분하기 위해 reverse_count 사용\n",
    "        elif 2 in reverse_count.keys() :\n",
    "            answer = (list(count.keys())[0] + list(count.keys())[1]) * (abs(list(count.keys())[0] - list(count.keys())[1]))\n",
    "            # 2개의 숫자가 같은 경우 reverse_count를 사용하면 하나로 통합되어 버리기 때문에 count 변수를 사용\n",
    "    elif len(count) == 3 :\n",
    "        answer = sort_value[0][0] * sort_value[1][0]\n",
    "        # 2개의 숫자 중복, 나머지 2개가 서로 달라 총 3개의 숫자로 구분되는 경우\n",
    "        # 최초 리스트([a,b,c,d])의 숫자 순대로 정렬이 되기 때문에 그냥 count 변수를 사용하면 다른 예제에 대응 할 수 없음\n",
    "        # 따라서 value 기준으로 오름차순 정렬하여 사용\n",
    "    else :\n",
    "        answer = min(count.keys())\n",
    "        \n",
    "    return answer"
   ]
  },
  {
   "cell_type": "markdown",
   "metadata": {},
   "source": [
    "# 느낀점\n",
    "\n",
    "오늘은 쉬운 문제도 있었고 복잡한 문제도 잘 풀리는 날이여서 2일차를 하루만에 끝냈다.\n",
    "\n",
    "다른 사람의 풀이와 비교해도 새로 느낀점이라던지 시간 복잡도, 코드 복잡도의 질이 떨어지는 경우는 없었다.\n",
    "\n",
    "그래서 오늘 작성한 풀이 중 본인이 느끼기에 가장 복잡했던 코드를 가져와서 복기해보았다.\n",
    "\n",
    "확실히 코드 연습을 계속 해나가다보니 요령도 많이 생기고 문제설명 가운데서 코드를 어떻게 설계해야할지 대략적으로 머리에 그림이 그려지기 시작했다!"
   ]
  }
 ],
 "metadata": {
  "kernelspec": {
   "display_name": "base",
   "language": "python",
   "name": "python3"
  },
  "language_info": {
   "codemirror_mode": {
    "name": "ipython",
    "version": 3
   },
   "file_extension": ".py",
   "mimetype": "text/x-python",
   "name": "python",
   "nbconvert_exporter": "python",
   "pygments_lexer": "ipython3",
   "version": "3.10.9"
  },
  "orig_nbformat": 4
 },
 "nbformat": 4,
 "nbformat_minor": 2
}
