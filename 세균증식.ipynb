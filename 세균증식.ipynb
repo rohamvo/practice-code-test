{
 "cells": [
  {
   "cell_type": "markdown",
   "metadata": {},
   "source": [
    "# 세균증식\n",
    "\n",
    "어떤 세균은 1시간에 두배만큼 증식한다고 합니다. 처음 세균의 마리수 n과 경과한 시간 t가 매개변수로 주어질 때 t시간 후 세균의 수를 return하도록 solution 함수를 완성해주세요.\n",
    "\n",
    "제한사항\n",
    "- 1 ≤ n ≤ 10\n",
    "- 1 ≤ t ≤ 15\n",
    "\n",
    "입출력 예)\n",
    "- n = 2 / t = 10 / result = 2048\n",
    "- n = 7 / t = 15 / result = 229,376"
   ]
  },
  {
   "cell_type": "code",
   "execution_count": 1,
   "metadata": {},
   "outputs": [],
   "source": [
    "# 내가 작성한 풀이\n",
    "def solution(n, t):\n",
    "    return n*2**t"
   ]
  },
  {
   "cell_type": "code",
   "execution_count": 2,
   "metadata": {},
   "outputs": [],
   "source": [
    "# 다른 사람의 풀이\n",
    "def solution(n, t):\n",
    "    return n << t"
   ]
  },
  {
   "cell_type": "markdown",
   "metadata": {},
   "source": [
    "# 비트 쉬프트 연산\n",
    "\n",
    "<<, >> 는 정수를 2배로 곱하거나 나누어 계산해주는 일명 비트 쉬프트 연산자이다.\n",
    "\n",
    "즉 위 문제에서 n << t 라는 코드를 실행하게 되면 첫번째 입출력 예시에서는 2 * 2^10이 되고, 두번째 예시에서는 7 * 2^15가 된다.\n",
    "\n",
    "반대로 '<<'라면 첫번째 입출력 옛에서는 2 / 2^10이 되고, 두번째 예시에서는 7 / 2^15가 된다."
   ]
  }
 ],
 "metadata": {
  "kernelspec": {
   "display_name": "base",
   "language": "python",
   "name": "python3"
  },
  "language_info": {
   "codemirror_mode": {
    "name": "ipython",
    "version": 3
   },
   "file_extension": ".py",
   "mimetype": "text/x-python",
   "name": "python",
   "nbconvert_exporter": "python",
   "pygments_lexer": "ipython3",
   "version": "3.10.12"
  },
  "orig_nbformat": 4
 },
 "nbformat": 4,
 "nbformat_minor": 2
}
