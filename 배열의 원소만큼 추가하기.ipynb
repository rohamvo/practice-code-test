{
 "cells": [
  {
   "cell_type": "markdown",
   "metadata": {},
   "source": [
    "# 배열의 원소만큼 추가하기\n",
    "\n",
    "아무 원소도 들어있지 않은 빈 배열 X가 있습니다. 양의 정수 배열 arr가 매개변수로 주어질 때, arr의 앞에서부터 차례대로 원소를 보면서 원소가 a라면 X의 맨 뒤에 a를 a번 추가하는 일을 반복한 뒤의 배열 X를 return 하는 solution 함수를 작성해 주세요.\n",
    "\n",
    "제한사항\n",
    "- 1 ≤ arr의 길이 ≤ 100\n",
    "- 1 ≤ arr의 원소 ≤ 100\n",
    "\n",
    "입출력 예)\n",
    "- arr = [5, 1, 4] / result = [5, 5, 5, 5, 5, 1, 4, 4, 4, 4]\n",
    "- arr = [6, 6] / result = [6, 6, 6, 6, 6, 6, 6, 6, 6, 6, 6, 6]\n",
    "- arr = [1] / result = [1]"
   ]
  },
  {
   "cell_type": "code",
   "execution_count": 1,
   "metadata": {},
   "outputs": [],
   "source": [
    "# 내가 작성한 풀이\n",
    "def solution(arr):\n",
    "    answer = []\n",
    "    for i in arr :\n",
    "        num = i\n",
    "        while i != 0 :\n",
    "            answer.append(num)\n",
    "            i -= 1\n",
    "    return answer"
   ]
  },
  {
   "cell_type": "code",
   "execution_count": 2,
   "metadata": {},
   "outputs": [],
   "source": [
    "# 다른 사람의 풀이\n",
    "def solution(arr):\n",
    "    return [i for i in arr for j in range(i)]"
   ]
  },
  {
   "cell_type": "markdown",
   "metadata": {},
   "source": [
    "# 이중 컴프리헨션을 이용한 문제풀이\n",
    "\n",
    "arr 내에 있는 요소를 i로 꺼내 for j in range(i)를 통하여 i를 i번만큼 담아내는 컴프리헨션이다."
   ]
  }
 ],
 "metadata": {
  "kernelspec": {
   "display_name": "base",
   "language": "python",
   "name": "python3"
  },
  "language_info": {
   "codemirror_mode": {
    "name": "ipython",
    "version": 3
   },
   "file_extension": ".py",
   "mimetype": "text/x-python",
   "name": "python",
   "nbconvert_exporter": "python",
   "pygments_lexer": "ipython3",
   "version": "3.10.12"
  },
  "orig_nbformat": 4
 },
 "nbformat": 4,
 "nbformat_minor": 2
}
