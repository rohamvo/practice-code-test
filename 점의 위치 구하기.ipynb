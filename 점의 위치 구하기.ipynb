{
 "cells": [
  {
   "cell_type": "markdown",
   "metadata": {},
   "source": [
    "# 점의 위치 구하기\n",
    "\n",
    "사분면은 한 평면을 x축과 y축을 기준으로 나눈 네 부분입니다. 사분면은 아래와 같이 1부터 4까지 번호를매깁니다.\n",
    "\n",
    "- x 좌표와 y 좌표가 모두 양수이면 제1사분면에 속합니다.\n",
    "- x 좌표가 음수, y 좌표가 양수이면 제2사분면에 속합니다.\n",
    "- x 좌표와 y 좌표가 모두 음수이면 제3사분면에 속합니다.\n",
    "- x 좌표가 양수, y 좌표가 음수이면 제4사분면에 속합니다.\n",
    "\n",
    "x 좌표 (x, y)를 차례대로 담은 정수 배열 dot이 매개변수로 주어집니다. 좌표 dot이 사분면 중 어디에 속하는지 1, 2, 3, 4 중 하나를 return 하도록 solution 함수를 완성해주세요.\n",
    "\n",
    "제한사항\n",
    "- dot의 길이 = 2\n",
    "- dot[0]은 x좌표를, dot[1]은 y좌표를 나타냅니다\n",
    "- -500 ≤ dot의 원소 ≤ 500\n",
    "- dot의 원소는 0이 아닙니다.\n",
    "\n",
    "입출력 예)\n",
    "- dot = [2, 4] / result = 1\n",
    "- dot = [-7, 9] / result = 2"
   ]
  },
  {
   "cell_type": "code",
   "execution_count": null,
   "metadata": {},
   "outputs": [],
   "source": [
    "# 내가 작성한 풀이\n",
    "def solution(dot):\n",
    "    if dot[0] > 0 and dot[1] > 0 :\n",
    "        return 1\n",
    "    elif dot[0] < 0 and dot[1] > 0:\n",
    "        return 2\n",
    "    elif dot[1] < 0 and dot[0] > 0:\n",
    "        return 4\n",
    "    elif dot[0] < 0 and dot[1] < 0 :\n",
    "        return 3"
   ]
  },
  {
   "cell_type": "code",
   "execution_count": 1,
   "metadata": {},
   "outputs": [],
   "source": [
    "# 다른 사람의 풀이\n",
    "def solution(dot):\n",
    "    quad = [(3,2),(4,1)]\n",
    "    return quad[dot[0] > 0][dot[1] > 0]"
   ]
  },
  {
   "cell_type": "markdown",
   "metadata": {},
   "source": [
    "quad[dot[0] > 0][dot[1] > 0] 이 코드에서\n",
    "\n",
    "dot[0] > 0 / dot[1] > 0 을 통해서 1,0 정수를 받아\n",
    "\n",
    "- [0][0]:3사분면\n",
    "- [0][1]:2사분면\n",
    "- [1][0]:4사분면\n",
    "- [1][1]:1사분면\n",
    "\n",
    "retrun되게 만든 함수"
   ]
  }
 ],
 "metadata": {
  "kernelspec": {
   "display_name": "base",
   "language": "python",
   "name": "python3"
  },
  "language_info": {
   "codemirror_mode": {
    "name": "ipython",
    "version": 3
   },
   "file_extension": ".py",
   "mimetype": "text/x-python",
   "name": "python",
   "nbconvert_exporter": "python",
   "pygments_lexer": "ipython3",
   "version": "3.10.12"
  },
  "orig_nbformat": 4
 },
 "nbformat": 4,
 "nbformat_minor": 2
}
