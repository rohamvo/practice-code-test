{
 "cells": [
  {
   "cell_type": "markdown",
   "metadata": {},
   "source": [
    "# 수 조작하기 1\n",
    "\n",
    "정수 n과 문자열 control이 주어집니다. control은 \"w\", \"a\", \"s\", \"d\"의 4개의 문자로 이루어져 있으며, control의 앞에서부터 순서대로 문자에 따라 n의 값을 바꿉니다.\n",
    "\n",
    "- \"w\" : n이 1 커집니다.\n",
    "- \"s\" : n이 1 작아집니다.\n",
    "- \"d\" : n이 10 커집니다.\n",
    "- \"a\" : n이 10 작아집니다.\n",
    "\n",
    "위 규칙에 따라 n을 바꿨을 때 가장 마지막에 나오는 n의 값을 return 하는 solution 함수를 완성해 주세요.\n",
    "\n",
    "입출력 예)\n",
    "- n = 0, control = \"wsdawsdassw\", result = -1"
   ]
  },
  {
   "cell_type": "code",
   "execution_count": null,
   "metadata": {},
   "outputs": [],
   "source": [
    "# 내가 작성한 풀이\n",
    "def solution(n, control):\n",
    "    for s in control :\n",
    "        if s == \"w\" :\n",
    "           n = n + 1\n",
    "        elif s == \"s\" :\n",
    "            n = n - 1\n",
    "        elif s == \"d\" :\n",
    "            n = n + 10\n",
    "        else :\n",
    "            n = n - 10\n",
    "    return n"
   ]
  },
  {
   "cell_type": "code",
   "execution_count": 1,
   "metadata": {},
   "outputs": [],
   "source": [
    "# 다른 사람의 풀이\n",
    "def solution(n, control):\n",
    "    key = dict(zip(['w','s','d','a'], [1,-1,10,-10]))\n",
    "    return n + sum([key[c] for c in control])"
   ]
  },
  {
   "cell_type": "markdown",
   "metadata": {},
   "source": [
    "# zip과 dict 자료형 특성을 이용한 풀이\n",
    "내가 작성한 풀이에서 길게 조건문으로 작성한 것을 zip과 dict자료형을 통해 풀어낸 코드이다.\n",
    "\n",
    "zip으로 문자열과 수의 변화를 묶고 dict형으로 변형하여 작성하였다.\n",
    "\n",
    "이 방법을 수 조작하기 2에서 응용하여 사용해보았다."
   ]
  },
  {
   "cell_type": "markdown",
   "metadata": {},
   "source": [
    "# 수 조작하기 2\n",
    "\n",
    "정수 배열 numLog가 주어집니다. 처음에 numLog[0]에서 부터 시작해 \"w\", \"a\", \"s\", \"d\"로 이루어진 문자열을 입력으로 받아 순서대로 다음과 같은 조작을 했다고 합시다.\n",
    "\n",
    "- \"w\" : 수에 1을 더한다.\n",
    "- \"s\" : 수에 1을 뺀다.\n",
    "- \"d\" : 수에 10을 더한다.\n",
    "- \"a\" : 수에 10을 뺀다.\n",
    "\n",
    "그리고 매번 조작을 할 때마다 결괏값을 기록한 정수 배열이 numLog입니다. 즉, numLog[i]는 numLog[0]로부터 총 i번의 조작을 가한 결과가 저장되어 있습니다.\n",
    "\n",
    "주어진 정수 배열 numLog에 대해 조작을 위해 입력받은 문자열을 return 하는 solution 함수를 완성해 주세요.\n",
    "\n",
    "입출력 예)\n",
    "- log = [0, 1, 0, 10, 0, 1, 0, 10, 0, -1, -2, -1], result = \"wsdawsdassw\"\n"
   ]
  },
  {
   "cell_type": "code",
   "execution_count": 2,
   "metadata": {},
   "outputs": [],
   "source": [
    "# 내가 작성한 풀이\n",
    "def solution(numLog):\n",
    "    s = dict(zip([1, -1, 10, -10], [\"w\", \"s\", \"d\", \"a\"]))\n",
    "    log_list = []\n",
    "    result = []\n",
    "    for i in range(len(numLog)-1) :\n",
    "        log_list.append(numLog[i+1] - numLog[i])\n",
    "    for j in log_list :\n",
    "        result.append(s[j])\n",
    "    return ''.join(result)"
   ]
  },
  {
   "cell_type": "markdown",
   "metadata": {},
   "source": [
    "수 조작하기 1에서 확인한 방법으로 조금 더 간결하게 코드를 작성할 수 있었다."
   ]
  }
 ],
 "metadata": {
  "kernelspec": {
   "display_name": "base",
   "language": "python",
   "name": "python3"
  },
  "language_info": {
   "codemirror_mode": {
    "name": "ipython",
    "version": 3
   },
   "file_extension": ".py",
   "mimetype": "text/x-python",
   "name": "python",
   "nbconvert_exporter": "python",
   "pygments_lexer": "ipython3",
   "version": "3.10.9"
  },
  "orig_nbformat": 4
 },
 "nbformat": 4,
 "nbformat_minor": 2
}
