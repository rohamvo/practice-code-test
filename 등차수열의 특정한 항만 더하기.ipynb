{
 "cells": [
  {
   "attachments": {},
   "cell_type": "markdown",
   "metadata": {},
   "source": [
    "# 등차수열의 특정한 항만 더하기\n",
    "두 정수 a, d와 길이가 n인 boolean 배열 included가 주어집니다. 첫째항이 a, 공차가 d인 등차수열에서 included[i]가 i + 1항을 의미할 때, 이 등차수열의 1항부터 n항까지 included가 true인 항들만 더한 값을 return 하는 solution 함수를 작성해 주세요."
   ]
  },
  {
   "attachments": {},
   "cell_type": "markdown",
   "metadata": {},
   "source": [
    "입출력 예)\n",
    "- a = 3, d = 4, included = [true, false, false, true, true], result = 37\n",
    "- a = 7, d = 1, included = [false, false, false, true, false, false, false], result = 10"
   ]
  },
  {
   "cell_type": "code",
   "execution_count": 1,
   "metadata": {},
   "outputs": [],
   "source": [
    "# 내가 작성한 풀이\n",
    "def solution(a, d, included):\n",
    "    idx = []\n",
    "    t = list(range(a,a+(d*len(included)),d))\n",
    "    answer = 0\n",
    "    for i in range(len(included)) :\n",
    "        if included[i] == True :\n",
    "            idx.append(i)\n",
    "    for j in idx :\n",
    "        answer += t[j]\n",
    "    return answer"
   ]
  },
  {
   "cell_type": "code",
   "execution_count": 2,
   "metadata": {},
   "outputs": [],
   "source": [
    "# 다른 사람의 풀이\n",
    "def solution(a, d, included):\n",
    "    answer = 0\n",
    "    for i in range(len(included)):\n",
    "        answer += (a + d * i) * int(included[i])\n",
    "    return answer"
   ]
  },
  {
   "attachments": {},
   "cell_type": "markdown",
   "metadata": {},
   "source": [
    "# True, False를 int형으로 변형했을때 중요한 코드\n",
    "n의 배수 다른 사람의 풀이에서 보고 배웠음에도 이용할 생각을 못했다.\n",
    "- 문제의 조건에 따라 계산 했을때 False일 경우 계산을 안한다는것은 False를 int형으로 변형한 0을 계산식 뒤에 곱해주면 0이 된다는 것을 이용한 코드\n",
    "- True일경우 1로 변환되기 때문에 계산식이 적용되어 문제의 조건에 맞게 풀이가 가능하다."
   ]
  },
  {
   "attachments": {},
   "cell_type": "markdown",
   "metadata": {},
   "source": []
  }
 ],
 "metadata": {
  "kernelspec": {
   "display_name": "base",
   "language": "python",
   "name": "python3"
  },
  "language_info": {
   "codemirror_mode": {
    "name": "ipython",
    "version": 3
   },
   "file_extension": ".py",
   "mimetype": "text/x-python",
   "name": "python",
   "nbconvert_exporter": "python",
   "pygments_lexer": "ipython3",
   "version": "3.10.9"
  },
  "orig_nbformat": 4
 },
 "nbformat": 4,
 "nbformat_minor": 2
}
