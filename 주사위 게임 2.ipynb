{
 "cells": [
  {
   "attachments": {},
   "cell_type": "markdown",
   "metadata": {},
   "source": [
    "# 주사위 게임 2\n",
    "1부터 6까지 숫자가 적힌 주사위가 세 개 있습니다. 세 주사위를 굴렸을 때 나온 숫자를 각각 a, b, c라고 했을 때 얻는 점수는 다음과 같습니다.\n",
    "\n",
    "세 숫자가 모두 다르다면 a + b + c 점을 얻습니다.\n",
    "세 숫자 중 어느 두 숫자는 같고 나머지 다른 숫자는 다르다면 (a + b + c) × (a2 + b2 + c2 )점을 얻습니다.\n",
    "세 숫자가 모두 같다면 (a + b + c) × (a2 + b2 + c2 ) × (a3 + b3 + c3 )점을 얻습니다.\n",
    "세 정수 a, b, c가 매개변수로 주어질 때, 얻는 점수를 return 하는 solution 함수를 작성해 주세요."
   ]
  },
  {
   "attachments": {},
   "cell_type": "markdown",
   "metadata": {},
   "source": [
    "입출력 예)\n",
    "- a\t b\tc\tresult\n",
    "- 2\t 6\t1\t9\n",
    "- 5\t 3\t3\t473\n",
    "- 4\t 4\t4\t110592"
   ]
  },
  {
   "cell_type": "code",
   "execution_count": 1,
   "metadata": {},
   "outputs": [],
   "source": [
    "# 내가 작성한 풀이\n",
    "def solution(a, b, c):\n",
    "    answer = 0\n",
    "    if a != b and b != c and a != c:\n",
    "        answer = a + b + c\n",
    "    elif a == b and a == c :\n",
    "        answer = (a+b+c) * (a**2+b**2+c**2) * (a**3+b**3+c**3)\n",
    "    else :\n",
    "        answer = (a+b+c) * (a**2+b**2+c**2)\n",
    "    return answer"
   ]
  },
  {
   "cell_type": "code",
   "execution_count": 2,
   "metadata": {},
   "outputs": [],
   "source": [
    "# 다른 사람의 풀이\n",
    "def solution(a, b, c):\n",
    "    check=len(set([a,b,c]))\n",
    "    if check==1:\n",
    "        return 3*a*3*(a**2)*3*(a**3)\n",
    "    elif check==2:\n",
    "        return (a+b+c)*(a**2+b**2+c**2)\n",
    "    else:\n",
    "        return (a+b+c)"
   ]
  },
  {
   "attachments": {},
   "cell_type": "markdown",
   "metadata": {},
   "source": [
    "# set(집합) 자료형의 특성을 이용한 풀이\n",
    "\n",
    "set(집합) 자료형은 중복이 없다.\n",
    "- 같은 값이 있다면 하나로 통합되는 특성이 있음\n",
    "- a,b,c가 존재하고 set을 통해 집합 자료형으로 변형\n",
    "- a,b,c가 모두 같다면 위 코드에서 check는 1\n",
    "- a,b,c중 두 숫자가 같다면 check는 2\n",
    "- a,b,c가 모두 다른 숫자라면 check는 3"
   ]
  },
  {
   "attachments": {},
   "cell_type": "markdown",
   "metadata": {},
   "source": []
  }
 ],
 "metadata": {
  "kernelspec": {
   "display_name": "base",
   "language": "python",
   "name": "python3"
  },
  "language_info": {
   "codemirror_mode": {
    "name": "ipython",
    "version": 3
   },
   "file_extension": ".py",
   "mimetype": "text/x-python",
   "name": "python",
   "nbconvert_exporter": "python",
   "pygments_lexer": "ipython3",
   "version": "3.10.9"
  },
  "orig_nbformat": 4
 },
 "nbformat": 4,
 "nbformat_minor": 2
}
