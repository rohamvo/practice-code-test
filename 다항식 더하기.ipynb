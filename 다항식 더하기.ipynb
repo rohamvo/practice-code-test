{
 "cells": [
  {
   "cell_type": "markdown",
   "metadata": {},
   "source": [
    "# 다항식 더하기\n",
    "\n",
    "한 개 이상의 항의 합으로 이루어진 식을 다항식이라고 합니다. 다항식을 계산할 때는 동류항끼리 계산해 정리합니다. 덧셈으로 이루어진 다항식 polynomial이 매개변수로 주어질 때, 동류항끼리 더한 결괏값을 문자열로 return 하도록 solution 함수를 완성해보세요. 같은 식이라면 가장 짧은 수식을 return 합니다.\n",
    "\n",
    "제한사항\n",
    "- 0 < polynomial에 있는 수 < 100\n",
    "- polynomial에 변수는 'x'만 존재합니다.\n",
    "- polynomial은 양의 정수, 공백, ‘x’, ‘+'로 이루어져 있습니다.\n",
    "- 항과 연산기호 사이에는 항상 공백이 존재합니다.\n",
    "- 공백은 연속되지 않으며 시작이나 끝에는 공백이 없습니다.\n",
    "- 하나의 항에서 변수가 숫자 앞에 오는 경우는 없습니다.\n",
    "- \" + 3xx + + x7 + \"와 같은 잘못된 입력은 주어지지 않습니다.\n",
    "- 0으로 시작하는 수는 없습니다.\n",
    "- 문자와 숫자 사이의 곱하기는 생략합니다.\n",
    "- polynomial에는 일차 항과 상수항만 존재합니다.\n",
    "- 계수 1은 생략합니다.\n",
    "- 결괏값에 상수항은 마지막에 둡니다.\n",
    "- 0 < polynomial의 길이 < 50\n",
    "\n",
    "입출력 예)\n",
    "- polynomial = \"3x + 7 + x\" / result = \"4x + 7\"\n",
    "- polynomial = \"x + x + x\" / result = \"3x\""
   ]
  },
  {
   "cell_type": "code",
   "execution_count": 1,
   "metadata": {},
   "outputs": [],
   "source": [
    "# 내가 작성한 풀이\n",
    "def solution(polynomial):\n",
    "    polynomial = polynomial.split(\" \")\n",
    "    x_list = [s for s in polynomial if \"x\" in s]\n",
    "    n_list = [int(s) for s in polynomial if \"x\" not in s and \"+\" not in s]\n",
    "    i = 0\n",
    "    for s in x_list :\n",
    "        if len(s) > 1 :\n",
    "            sn = s.split(\"x\")[0]\n",
    "            x_list[i] = \"x\" * int(sn)\n",
    "            i += 1\n",
    "        else :\n",
    "            i += 1\n",
    "    x_num = len(''.join(x_list))\n",
    "    num = sum(n_list)\n",
    "    x = f\"{x_num}x\"\n",
    "    n = sum(n_list)\n",
    "    if x_num == 1 :\n",
    "        x = \"x\"\n",
    "    if num == 0 :\n",
    "        return f\"{x}\"\n",
    "    elif x_num == 0 :\n",
    "        return f\"{num}\"\n",
    "    return f\"{x} + {num}\""
   ]
  },
  {
   "cell_type": "markdown",
   "metadata": {},
   "source": [
    "# 조건문 검토를 잘하자!\n",
    "\n",
    "조건문을 처음부터 잘못써서 이것저것 시도해보다가 많이 돌아갔다.\n",
    "\n",
    "문제를 잘 읽고 조건문을 먼저 생각한뒤에 작성하자. 처음부터 잘못쓰게 되면 코드가 길어지고 복잡도가 커진다!"
   ]
  }
 ],
 "metadata": {
  "kernelspec": {
   "display_name": "base",
   "language": "python",
   "name": "python3"
  },
  "language_info": {
   "codemirror_mode": {
    "name": "ipython",
    "version": 3
   },
   "file_extension": ".py",
   "mimetype": "text/x-python",
   "name": "python",
   "nbconvert_exporter": "python",
   "pygments_lexer": "ipython3",
   "version": "3.10.12"
  },
  "orig_nbformat": 4
 },
 "nbformat": 4,
 "nbformat_minor": 2
}
