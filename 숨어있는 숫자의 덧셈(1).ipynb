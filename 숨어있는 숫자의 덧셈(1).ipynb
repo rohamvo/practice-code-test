{
 "cells": [
  {
   "cell_type": "markdown",
   "metadata": {},
   "source": [
    "# 숨어있는 숫자의 덧셈(1)\n",
    "\n",
    "문자열 my_string이 매개변수로 주어집니다. my_string안의 모든 자연수들의 합을 return하도록 solution 함수를 완성해주세요.\n",
    "\n",
    "제한사항\n",
    "- 1 ≤ my_string의 길이 ≤ 1,000\n",
    "- my_string은 소문자, 대문자 그리고 한자리 자연수로만 구성되어있습니다.\n",
    "\n",
    "입출력 예)\n",
    "- my_string = \"aAb1B2cC34oOp\" / result = 10\n",
    "- my_string = \"1a2b3c4d123\" / result = 16"
   ]
  },
  {
   "cell_type": "code",
   "execution_count": null,
   "metadata": {},
   "outputs": [],
   "source": [
    "# 내가 작성한 풀이\n",
    "def solution(my_string):\n",
    "    num = []\n",
    "    for s in my_string :\n",
    "        try :\n",
    "            int(s)\n",
    "            num.append(int(s))\n",
    "        except :\n",
    "            pass\n",
    "    return sum(num)"
   ]
  },
  {
   "cell_type": "code",
   "execution_count": 1,
   "metadata": {},
   "outputs": [],
   "source": [
    "# 다른 사람의 풀이\n",
    "def solution(my_string):\n",
    "    return sum(int(i) for i in my_string if i.isdigit())"
   ]
  },
  {
   "cell_type": "markdown",
   "metadata": {},
   "source": [
    "# isdigit() 메소드\n",
    "\n",
    "문자열 정렬하기 문제와 같은 메소드를 통해 풀이한 코드이다."
   ]
  }
 ],
 "metadata": {
  "kernelspec": {
   "display_name": "base",
   "language": "python",
   "name": "python3"
  },
  "language_info": {
   "codemirror_mode": {
    "name": "ipython",
    "version": 3
   },
   "file_extension": ".py",
   "mimetype": "text/x-python",
   "name": "python",
   "nbconvert_exporter": "python",
   "pygments_lexer": "ipython3",
   "version": "3.10.12"
  },
  "orig_nbformat": 4
 },
 "nbformat": 4,
 "nbformat_minor": 2
}
