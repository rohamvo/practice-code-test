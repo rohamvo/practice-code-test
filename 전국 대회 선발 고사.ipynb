{
 "cells": [
  {
   "cell_type": "markdown",
   "metadata": {},
   "source": [
    "# 전국 대회 선발 고사\n",
    "\n",
    "0번부터 n - 1번까지 n명의 학생 중 3명을 선발하는 전국 대회 선발 고사를 보았습니다. 등수가 높은 3명을 선발해야 하지만, 개인 사정으로 전국 대회에 참여하지 못하는 학생들이 있어 참여가 가능한 학생 중 등수가 높은 3명을 선발하기로 했습니다.\n",
    "\n",
    "각 학생들의 선발 고사 등수를 담은 정수 배열 rank와 전국 대회 참여 가능 여부가 담긴 boolean 배열 attendance가 매개변수로 주어집니다. 전국 대회에 선발된 학생 번호들을 등수가 높은 순서대로 각각 a, b, c번이라고 할 때 10000 × a + 100 × b + c를 return 하는 solution 함수를 작성해 주세요.\n",
    "\n",
    "제한사항\n",
    "- 3 ≤ rank의 길이 = attendance의 길이 ≤ 100\n",
    "- rank[i]는 i번 학생의 선발 고사 등수를 의미합니다.\n",
    "- rank의 원소는 1부터 n까지의 정수로 모두 서로 다릅니다.\n",
    "- attendance[i]는 i번 학생의 전국 대회 참석 가능 여부를 나타냅니다.\n",
    "    - attendance[i]가 true라면 참석 가능, false면 참석 불가능을 의미합니다.\n",
    "- attendance의 원소 중 적어도 3개는 true입니다.\n",
    "\n",
    "입출력 예)\n",
    "\n",
    "- rank : [3, 7, 2, 5, 4, 6, 1] / attendance : [false, true, true, true, true, false, false] / result : \t20403\n",
    "- rank : [1, 2, 3] / attendance : [true, true, true] / result : 102\n",
    "- rank : [6, 1, 5, 2, 3, 4] / attendance : [true, false, true, false, false, true] / result : 50200"
   ]
  },
  {
   "cell_type": "code",
   "execution_count": 1,
   "metadata": {},
   "outputs": [],
   "source": [
    "# 내가 작성한 풀이\n",
    "def solution(rank, attendance):\n",
    "    sel_list = sorted([rank[i] for i in range(len(attendance)) if attendance[i] == True])\n",
    "    a = rank.index(sel_list[0])\n",
    "    b = rank.index(sel_list[1])\n",
    "    c = rank.index(sel_list[2])\n",
    "    return (10000*a) + (100*b) + c"
   ]
  },
  {
   "cell_type": "code",
   "execution_count": 2,
   "metadata": {},
   "outputs": [],
   "source": [
    "# 다른 사람의 풀이\n",
    "def solution(rank, attendance):\n",
    "    arr = sorted([(x, i) for i, x in enumerate(rank) if attendance[i]])\n",
    "    return arr[0][1] * 10000 + arr[1][1] * 100 + arr[2][1]"
   ]
  },
  {
   "cell_type": "markdown",
   "metadata": {},
   "source": [
    "# enumerate를 사용한 풀이\n",
    "\n",
    "enumerate는 for in 구문과 함께 사용시 자동으로 인덱스를 붙여준다.\n",
    "\n",
    "예시)"
   ]
  },
  {
   "cell_type": "code",
   "execution_count": 3,
   "metadata": {},
   "outputs": [
    {
     "name": "stdout",
     "output_type": "stream",
     "text": [
      "(0, 'A')\n",
      "(1, 'B')\n",
      "(2, 'C')\n"
     ]
    }
   ],
   "source": [
    "a = [\"A\", \"B\", \"C\"]\n",
    "for i in enumerate(a) :\n",
    "    print(i)"
   ]
  },
  {
   "cell_type": "markdown",
   "metadata": {},
   "source": [
    "문제에서 참석이 가능한 학생 중 가장 등수가 높은 학생의 순번을 찾아 a,b,c로 정하는 것이기 때문에 enumerate를 이용해서 리스트를 만들면 간결하게 코드 구현이 가능하다."
   ]
  }
 ],
 "metadata": {
  "kernelspec": {
   "display_name": "base",
   "language": "python",
   "name": "python3"
  },
  "language_info": {
   "codemirror_mode": {
    "name": "ipython",
    "version": 3
   },
   "file_extension": ".py",
   "mimetype": "text/x-python",
   "name": "python",
   "nbconvert_exporter": "python",
   "pygments_lexer": "ipython3",
   "version": "3.10.12"
  },
  "orig_nbformat": 4
 },
 "nbformat": 4,
 "nbformat_minor": 2
}
