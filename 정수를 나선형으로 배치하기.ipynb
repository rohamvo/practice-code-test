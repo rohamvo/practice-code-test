{
 "cells": [
  {
   "cell_type": "markdown",
   "metadata": {},
   "source": [
    "# 정수를 나선형으로 배치하기\n",
    "\n",
    "양의 정수 n이 매개변수로 주어집니다. n × n 배열에 1부터 n2 까지 정수를 인덱스 [0][0]부터 시계방향 나선형으로 배치한 이차원 배열을 return 하는 solution 함수를 작성해 주세요.\n",
    "\n",
    "제한사항\n",
    "- 1 ≤ n ≤ 30\n",
    "\n",
    "입출력 예)\n",
    "- n = 4 / result = [[1, 2, 3, 4], [12, 13, 14, 5], [11, 16, 15, 6], [10, 9, 8, 7]]\n",
    "- n = 5 / result = [[1, 2, 3, 4, 5], [16, 17, 18, 19, 6], [15, 24, 25, 20, 7], [14, 23, 22, 21, 8], [13, 12, 11, 10, 9]]\n",
    "\n",
    "다른 사람의 풀이에선 특별하게 찾을만한 점은 없었으나 level 0 문제 중에서 가장 오래 고민하게 했던 문제여서 리뷰한다."
   ]
  },
  {
   "cell_type": "code",
   "execution_count": 2,
   "metadata": {},
   "outputs": [],
   "source": [
    "# 내가 작성한 풀이\n",
    "def solution(n):\n",
    "    answer = [[0 for _ in range(n)] for _ in range(n)] # 0으로 이루어진 리스트를 생성\n",
    "    i, j = 0, 0 # x,y index 생성 / x index = i / y index = j\n",
    "    d = \"R\" # 나선형으로 숫자를 생성해야하기 때문에 방향 변수를 생성하였다.\n",
    "\n",
    "    for num in range(1, n**2 + 1): # n*n배열이기때문에 1부터 n**2까지 범위를 지정한다.\n",
    "        answer[i][j] = num\n",
    "\n",
    "        # 아래에서부터는 방향 변수 상태에 따른 조건문과 그에 따른 인덱스 값 수정이다.\n",
    "        if d == \"R\":\n",
    "            if j + 1 == n or answer[i][j + 1] != 0:\n",
    "                d = \"D\"\n",
    "                i += 1\n",
    "            else:\n",
    "                j += 1\n",
    "\n",
    "        elif d == \"D\":\n",
    "            if i + 1 == n or answer[i + 1][j] != 0:\n",
    "                d = \"L\"\n",
    "                j -= 1\n",
    "            else:\n",
    "                i += 1\n",
    "\n",
    "        elif d == \"L\":\n",
    "            if answer[i][j - 1] != 0:\n",
    "                d = \"T\"\n",
    "                i -= 1\n",
    "            else:\n",
    "                j -= 1\n",
    "\n",
    "        elif d == \"T\":\n",
    "            if answer[i - 1][j] != 0:\n",
    "                d = \"R\"\n",
    "                j += 1\n",
    "            else:\n",
    "                i -= 1\n",
    "                \n",
    "    return answer"
   ]
  },
  {
   "cell_type": "markdown",
   "metadata": {},
   "source": [
    "이 문제는 나선형으로 숫자를 생성할때 어떠한 조건에서 방향을 바꿔야 하는지에 대한 if문 조건과 그에 따른 인덱스 값 수정이 관건인 문제였다."
   ]
  }
 ],
 "metadata": {
  "kernelspec": {
   "display_name": "base",
   "language": "python",
   "name": "python3"
  },
  "language_info": {
   "codemirror_mode": {
    "name": "ipython",
    "version": 3
   },
   "file_extension": ".py",
   "mimetype": "text/x-python",
   "name": "python",
   "nbconvert_exporter": "python",
   "pygments_lexer": "ipython3",
   "version": "3.10.12"
  },
  "orig_nbformat": 4
 },
 "nbformat": 4,
 "nbformat_minor": 2
}
