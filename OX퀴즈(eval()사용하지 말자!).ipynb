{
 "cells": [
  {
   "cell_type": "markdown",
   "metadata": {},
   "source": [
    "# OX퀴즈\n",
    "\n",
    "덧셈, 뺄셈 수식들이 'X [연산자] Y = Z' 형태로 들어있는 문자열 배열 quiz가 매개변수로 주어집니다. 수식이 옳다면 \"O\"를 틀리다면 \"X\"를 순서대로 담은 배열을 return하도록 solution 함수를 완성해주세요.\n",
    "\n",
    "제한사항\n",
    "- 연산 기호와 숫자 사이는 항상 하나의 공백이 존재합니다. 단 음수를 표시하는 마이너스 기호와 숫자 사이에는 공백이 존재하지 않습니다.\n",
    "- 1 ≤ quiz의 길이 ≤ 10\n",
    "- X, Y, Z는 각각 0부터 9까지 숫자로 이루어진 정수를 의미하며, 각 숫자의 맨 앞에 마이너스 기호가 하나 있을 수 있고 이는 음수를 의미합니다.\n",
    "- X, Y, Z는 0을 제외하고는 0으로 시작하지 않습니다.\n",
    "- -10,000 ≤ X, Y ≤ 10,000\n",
    "- -20,000 ≤ Z ≤ 20,000\n",
    "- [연산자]는 + 와 - 중 하나입니다.\n",
    "\n",
    "입출력 예)\n",
    "- quiz = [\"3 - 4 = -3\", \"5 + 6 = 11\"] / result = [\"X\", \"O\"]\n",
    "- quiz = [\"19 - 6 = 13\", \"5 + 66 = 71\", \"5 - 15 = 63\", \"3 - 1 = 2\"] / result = [\"O\", \"O\", \"X\", \"O\"]"
   ]
  },
  {
   "cell_type": "code",
   "execution_count": 1,
   "metadata": {},
   "outputs": [],
   "source": [
    "# 내가 작성한 풀이\n",
    "def solution(quiz):\n",
    "    answer = []\n",
    "    for m in quiz :\n",
    "        i = 0\n",
    "        m = m.split(' ')\n",
    "        y = int(m[-1])\n",
    "        if \"+\" in m :\n",
    "            x = int(m[0]) + int(m[2])\n",
    "            answer.append(int(x==y))\n",
    "        elif \"-\" in m :\n",
    "            x = int(m[0]) - int(m[2])\n",
    "            answer.append(int(x==y))\n",
    "            \n",
    "    return [\"X\" if i == 0 else \"O\" for i in answer]"
   ]
  },
  {
   "cell_type": "markdown",
   "metadata": {},
   "source": [
    "# eval 주의!\n",
    "\n",
    "처음엔 바로 eval 코드를 생각해서 코드를 작성했다가 다른 유저가 eval을 현업에서 사용하면 큰일난다는 멘트를 보게 되었다.\n",
    "\n",
    "궁금해서 검색해보았는데 보안에 취약하다는것을 알게되었다.\n",
    "\n",
    "eval() 메소드는 해당 표현식을 그대로 실행하는 것이기 때문에 메소드에 리눅스 명령어를 통해 서버의 root 디렉트리 정보등과 같은 중요한 정보가 그대로 노출될 수 있다."
   ]
  }
 ],
 "metadata": {
  "kernelspec": {
   "display_name": "base",
   "language": "python",
   "name": "python3"
  },
  "language_info": {
   "codemirror_mode": {
    "name": "ipython",
    "version": 3
   },
   "file_extension": ".py",
   "mimetype": "text/x-python",
   "name": "python",
   "nbconvert_exporter": "python",
   "pygments_lexer": "ipython3",
   "version": "3.10.12"
  },
  "orig_nbformat": 4
 },
 "nbformat": 4,
 "nbformat_minor": 2
}
