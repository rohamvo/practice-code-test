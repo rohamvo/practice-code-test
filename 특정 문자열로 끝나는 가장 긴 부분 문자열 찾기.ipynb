{
 "cells": [
  {
   "cell_type": "markdown",
   "metadata": {},
   "source": [
    "# 특정 문자열로 끝나는 가장 긴 부분 문자열 찾기\n",
    "\n",
    "문자열 myString과 pat가 주어집니다. myString의 부분 문자열중 pat로 끝나는 가장 긴 부분 문자열을 찾아서 return 하는 solution 함수를 완성해 주세요.\n",
    "\n",
    "제한사항\n",
    "- 5 ≤ myString ≤ 20\n",
    "- 1 ≤ pat ≤ 5\n",
    "    - pat은 반드시 myString의 부분 문자열로 주어집니다.\n",
    "- myString과 pat에 등장하는 알파벳은 대문자와 소문자를 구분합니다.\n",
    "\n",
    "입출력 예)\n",
    "\n",
    "- myString = \"AbCdEFG\" / pat = \"dE\" / result = \"AbCdE\"\n",
    "- myString = \"AAAAaaaa\" / pat = \"a\" / result = \t\"AAAAaaaa\""
   ]
  },
  {
   "cell_type": "code",
   "execution_count": 1,
   "metadata": {},
   "outputs": [],
   "source": [
    "# 내가 작성한 풀이\n",
    "def solution(myString, pat):\n",
    "    answer = []\n",
    "    for i in range(len(myString)) :\n",
    "        if myString[0:i+1].endswith(pat) == True :\n",
    "            answer.append(myString[0:i+1])\n",
    "    return max(answer)"
   ]
  },
  {
   "cell_type": "code",
   "execution_count": 2,
   "metadata": {},
   "outputs": [],
   "source": [
    "# 다른 사람의 풀이\n",
    "solution=lambda x,y:x[:x.rindex(y)+len(y)]"
   ]
  },
  {
   "cell_type": "markdown",
   "metadata": {},
   "source": [
    "# rindex, rfind\n",
    "\n",
    "## rindex, rfind란?\n",
    "\n",
    "인덱스를 찾는 index(), 주어진 객체의 위치를 찾는 find() 메소드는 좌측 즉 인덱스 0부터 찾아나가는 반면\n",
    "\n",
    "rindex() 와 rfind()는 우측 즉 인덱스의 마지막 부분부터 찾아나가는 방식이다.\n",
    "\n",
    "- rindex('x')\n",
    "    - 지정된 문자열 'x'가 없으면 에러 코드를 반환\n",
    "    - 지정된 문자열이 나타나는 마지막 구간의 시작 인덱스를 반환\n",
    "- rfind('x')\n",
    "    - 지정된 문자열 'x'가 없으면 -1을 반환\n",
    "    - 지정된 문자열이 나타나는 마지막 구간의 시작 인덱스를 반환"
   ]
  },
  {
   "cell_type": "code",
   "execution_count": 9,
   "metadata": {},
   "outputs": [
    {
     "name": "stdout",
     "output_type": "stream",
     "text": [
      "14\n",
      "10\n"
     ]
    }
   ],
   "source": [
    "# 예시\n",
    "a = 'abcjjddefgddhijj'\n",
    "print(a.rindex('jj'))\n",
    "print(a.rfind('dd'))\n",
    "# jj의 가장 마지막 위치의 시작되는 인덱스를 반환\n",
    "# dd의 가장 마지막 위치의 시작되는 인덱스를 반환"
   ]
  },
  {
   "cell_type": "code",
   "execution_count": null,
   "metadata": {},
   "outputs": [],
   "source": [
    "# 다른 사람의 풀이 해석\n",
    "lambda x,y:x[:x.rindex(y)+len(y)]\n",
    "# 여기서 x에 myString 변수가 들어가고 y에 pat 변수가 들어가게 된다.\n",
    "# rindex는 myString내의 pat 문자열이 존재하는 가장 마지막 구간의 시작 인덱스를 반환하기 때문에 pat의 길이만큼 더해주어 구간 전체의 문자열을 반환한다."
   ]
  }
 ],
 "metadata": {
  "kernelspec": {
   "display_name": "base",
   "language": "python",
   "name": "python3"
  },
  "language_info": {
   "codemirror_mode": {
    "name": "ipython",
    "version": 3
   },
   "file_extension": ".py",
   "mimetype": "text/x-python",
   "name": "python",
   "nbconvert_exporter": "python",
   "pygments_lexer": "ipython3",
   "version": "3.10.12"
  },
  "orig_nbformat": 4
 },
 "nbformat": 4,
 "nbformat_minor": 2
}
