{
 "cells": [
  {
   "attachments": {},
   "cell_type": "markdown",
   "metadata": {},
   "source": [
    "홀짝에 따라 다른 값 반환하기\n",
    "\n",
    "양의 정수 n이 매개변수로 주어질 때, n이 홀수라면 n 이하의 홀수인 모든 양의 정수의 합을 return 하고 n이 짝수라면 n 이하의 짝수인 모든 양의 정수의 제곱의 합을 return 하는 solution 함수를 작성해 주세요."
   ]
  },
  {
   "cell_type": "code",
   "execution_count": null,
   "metadata": {},
   "outputs": [],
   "source": [
    "# 내가 작성한 풀이\n",
    "def solution(n):\n",
    "    answer = 0\n",
    "    if n%2 != 0 :\n",
    "        for i in range(1, n+1) :\n",
    "            if i%2 != 0 :\n",
    "                answer += i\n",
    "    else :\n",
    "        for i in range(1, n+1) :\n",
    "            if i%2 == 0 :\n",
    "                answer += i**2\n",
    "    \n",
    "    return answer"
   ]
  },
  {
   "cell_type": "code",
   "execution_count": null,
   "metadata": {},
   "outputs": [],
   "source": [
    "# 다른 사람의 풀이\n",
    "def solution(n):\n",
    "    return sum(x ** (2 - x % 2) for x in range(n + 1) if n % 2 == x % 2)"
   ]
  },
  {
   "attachments": {},
   "cell_type": "markdown",
   "metadata": {},
   "source": [
    "보자마자 컴프리헨션을 배운 기억이 떠올랐다. 좋은 복습!"
   ]
  }
 ],
 "metadata": {
  "kernelspec": {
   "display_name": "base",
   "language": "python",
   "name": "python3"
  },
  "language_info": {
   "name": "python",
   "version": "3.10.9"
  },
  "orig_nbformat": 4
 },
 "nbformat": 4,
 "nbformat_minor": 2
}
