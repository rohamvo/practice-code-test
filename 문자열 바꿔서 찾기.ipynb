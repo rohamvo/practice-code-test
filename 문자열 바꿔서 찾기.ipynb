{
 "cells": [
  {
   "cell_type": "markdown",
   "metadata": {},
   "source": [
    "# 문자열 바꿔서 찾기\n",
    "\n",
    "문자 \"A\"와 \"B\"로 이루어진 문자열 myString과 pat가 주어집니다. myString의 \"A\"를 \"B\"로, \"B\"를 \"A\"로 바꾼 문자열의 연속하는 부분 문자열 중 pat이 있으면 1을 아니면 0을 return 하는 solution 함수를 완성하세요.\n",
    "\n",
    "제한사항\n",
    "- 1 ≤ myString의 길이 ≤ 100\n",
    "- 1 ≤ pat의 길이 ≤ 10\n",
    "    - myString과 pat는 문자 \"A\"와 \"B\"로만 이루어진 문자열입니다.\n",
    "\n",
    "입출력 예)\n",
    "- myString = \"ABBAA\" / pat = \"AABB\" / result = 1 \n",
    "- myString = \"ABAB\" / pat = \"ABAB\" / result = 0 "
   ]
  },
  {
   "cell_type": "code",
   "execution_count": 1,
   "metadata": {},
   "outputs": [],
   "source": [
    "# 내가 작성한 풀이\n",
    "def solution(myString, pat):\n",
    "    myString = list(myString)\n",
    "    for i in range(len(myString)) :\n",
    "        if myString[i] == 'A' :\n",
    "            myString[i] = 'B'\n",
    "        else :\n",
    "            myString[i] = 'A'\n",
    "    return int(pat in ''.join(myString))"
   ]
  },
  {
   "cell_type": "code",
   "execution_count": 2,
   "metadata": {},
   "outputs": [],
   "source": [
    "# 다른 사람의 풀이\n",
    "def solution(myString, pat):\n",
    "    return int(''.join(['A' if i == 'B' else 'B' for i in pat]) in myString)"
   ]
  },
  {
   "cell_type": "markdown",
   "metadata": {},
   "source": [
    "# myString 대신 pat을 수정!!\n",
    "\n",
    "비슷한 유형의 문제가 나올때마다 myString 부분만을 수정할 생각을 했는데 pat을 수정한것을 보니 신기했다.\n",
    "\n",
    "pat 문자열을 'A'는 'B'로 / 'B'는 'A'로 변형시킨것을 통해 간단하게 해결한 코드이다!"
   ]
  }
 ],
 "metadata": {
  "kernelspec": {
   "display_name": "base",
   "language": "python",
   "name": "python3"
  },
  "language_info": {
   "codemirror_mode": {
    "name": "ipython",
    "version": 3
   },
   "file_extension": ".py",
   "mimetype": "text/x-python",
   "name": "python",
   "nbconvert_exporter": "python",
   "pygments_lexer": "ipython3",
   "version": "3.10.12"
  },
  "orig_nbformat": 4
 },
 "nbformat": 4,
 "nbformat_minor": 2
}
