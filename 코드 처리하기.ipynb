{
 "cells": [
  {
   "attachments": {},
   "cell_type": "markdown",
   "metadata": {},
   "source": [
    "# 코드 처리하기\n",
    "\n",
    "문자열 code가 주어집니다.\n",
    "code를 앞에서부터 읽으면서 만약 문자가 \"1\"이면 mode를 바꿉니다. mode에 따라 code를 읽어가면서 문자열 ret을 만들어냅니다.\n",
    "\n",
    "mode는 0과 1이 있으며, idx를 0 부터 code의 길이 - 1 까지 1씩 키워나가면서 code[idx]의 값에 따라 다음과 같이 행동합니다.\n",
    "\n",
    "mode가 0일 때\n",
    "code[idx]가 \"1\"이 아니면 idx가 짝수일 때만 ret의 맨 뒤에 code[idx]를 추가합니다.\n",
    "code[idx]가 \"1\"이면 mode를 0에서 1로 바꿉니다.\n",
    "mode가 1일 때\n",
    "code[idx]가 \"1\"이 아니면 idx가 홀수일 때만 ret의 맨 뒤에 code[idx]를 추가합니다.\n",
    "code[idx]가 \"1\"이면 mode를 1에서 0으로 바꿉니다.\n",
    "문자열 code를 통해 만들어진 문자열 ret를 return 하는 solution 함수를 완성해 주세요.\n",
    "\n",
    "단, 시작할 때 mode는 0이며, return 하려는 ret가 만약 빈 문자열이라면 대신 \"EMPTY\"를 return 합니다.\n",
    "\n",
    "입출력 예)\n",
    "code = \"abc1abc1abc\"\n",
    "result = \"acbac\""
   ]
  },
  {
   "cell_type": "code",
   "execution_count": null,
   "metadata": {},
   "outputs": [],
   "source": [
    "# 내가 작성한 풀이\n",
    "def solution(code):\n",
    "    ret = []\n",
    "    mode = 0\n",
    "    for i in range(len(code)) :\n",
    "        if mode == 0 :\n",
    "            if code[i] != \"1\" :\n",
    "                if i%2 == 0 :\n",
    "                    ret.append(code[i])\n",
    "            else :\n",
    "                mode = 1\n",
    "        elif mode == 1 :\n",
    "            if code[i] != \"1\" :\n",
    "                if i%2 != 0 :\n",
    "                    ret.append(code[i])\n",
    "            else :\n",
    "                mode = 0\n",
    "    ret = ''.join(ret)\n",
    "    if ret == \"\" :\n",
    "        ret = \"EMPTY\"\n",
    "    return ret"
   ]
  },
  {
   "cell_type": "code",
   "execution_count": 2,
   "metadata": {},
   "outputs": [],
   "source": [
    "# 다른 사람의 풀이 1번\n",
    "def solution(code):\n",
    "    return \"\".join(code.split(\"1\"))[::2] or \"EMPTY\""
   ]
  },
  {
   "attachments": {},
   "cell_type": "markdown",
   "metadata": {},
   "source": [
    "## 문자열 code를 1을 기준으로 구분\n",
    "[::2] 로 코드 구현이 가능한 이유\n",
    "- 문제 설명을 다시 살펴보면\n",
    "- mode가 0일때 index가 짝수일때 문자 추가\n",
    "- mode가 1일때 index가 홀수일때 문자 추가\n",
    "- 따라서 mode가 0일때는 시작부분과 + 2 인덱스의 문자를 추가하고\n",
    "- mode가 1일때는 mode가 변경된 인덱스 + 2의 문자를 추가함\n",
    "- 결론적으로 문자 \"1\"을 통해 mode가 변경되는것과 관계없이 무조건 \"2\"의 간격을 두고 문자를 가져오면 되는것이다.\n",
    "- 그렇기 때문에 문자 \"1\"을 기준으로 구분하여 join 함수를 통해 문자열 내에서 문자 \"1\"을 삭제하고 2 인덱스 간격을 두고 문자를 가져온다.\n",
    "- 마지막으로 or \"EMPTY\"를 통해 ret 문자열이 비어있다면 \"EMPTY\"가 출력되게 작성한것이다."
   ]
  },
  {
   "attachments": {},
   "cell_type": "markdown",
   "metadata": {},
   "source": [
    "### 추가\n",
    "return에 and/or을 쓸 수 있는것을 처음 알았다.\n",
    "\n",
    "1. return A and B\n",
    "- A,B 둘 다 참이면 B를 출력\n",
    "- A,B 둘 다 거짓이면 A를 출력\n",
    "- A,B 둘 중에 하나만 참이면 거짓인 값을 출력\n",
    "\n",
    "2. return A or B\n",
    "- A,B 둘 다 참이면 A를 출력\n",
    "- A,B 둘 다 거짓이면 B를 출력\n",
    "- A,B 둘 중에 하나만 참이면 참인 값을 출력"
   ]
  },
  {
   "cell_type": "code",
   "execution_count": 3,
   "metadata": {},
   "outputs": [],
   "source": [
    "# 다른 사람의 풀이 2번\n",
    "def solution(code):\n",
    "    answer = ''\n",
    "\n",
    "    mode = 0\n",
    "    for i in range(len(code)):\n",
    "        if code[i] == '1':\n",
    "            mode ^= 1\n",
    "        else:\n",
    "            if i % 2 == mode:\n",
    "                answer += code[i]\n",
    "\n",
    "    return answer if answer else 'EMPTY'"
   ]
  },
  {
   "attachments": {},
   "cell_type": "markdown",
   "metadata": {},
   "source": [
    "이 코드를 선정한 이유는 ^= 를 처음 봤기 때문이다!\n",
    "- '^='는 XOR를 뜻한다. 좌 우측 비트가 같으면 0, 다르면 1이다. 이 코드에서는 mode가 0이면 1이되고, 1이면 같기 때문에 0이 된다.\n",
    "- 이는 내가 작성한 코드에서 mode 0,1을 따로 구분한것을 한 줄로 구현할 수 있는 코드이다!"
   ]
  },
  {
   "attachments": {},
   "cell_type": "markdown",
   "metadata": {},
   "source": []
  }
 ],
 "metadata": {
  "kernelspec": {
   "display_name": "base",
   "language": "python",
   "name": "python3"
  },
  "language_info": {
   "codemirror_mode": {
    "name": "ipython",
    "version": 3
   },
   "file_extension": ".py",
   "mimetype": "text/x-python",
   "name": "python",
   "nbconvert_exporter": "python",
   "pygments_lexer": "ipython3",
   "version": "3.10.9"
  },
  "orig_nbformat": 4
 },
 "nbformat": 4,
 "nbformat_minor": 2
}
