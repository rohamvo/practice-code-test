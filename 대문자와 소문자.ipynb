{
 "cells": [
  {
   "cell_type": "markdown",
   "metadata": {},
   "source": [
    "# 대문자와 소문자\n",
    "\n",
    "문자열 my_string이 매개변수로 주어질 때, 대문자는 소문자로 소문자는 대문자로 변환한 문자열을 return하도록 solution 함수를 완성해주세요.\n",
    "\n",
    "제한사항\n",
    "- 1 ≤ my_string의 길이 ≤ 1,000\n",
    "- my_string은 영어 대문자와 소문자로만 구성되어 있습니다.\n",
    "\n",
    "입출력 예)\n",
    "- my_string = \"cccCCC\" / result = \"CCCccc\"\n",
    "- my_string = \"abCdEfghIJ\" / result = \"ABcDeFGHij\""
   ]
  },
  {
   "cell_type": "code",
   "execution_count": 1,
   "metadata": {},
   "outputs": [],
   "source": [
    "# 내가 작성한 풀이\n",
    "from string import ascii_lowercase\n",
    "def solution(my_string):\n",
    "    answer = ''\n",
    "    for s in my_string :\n",
    "        if s in ascii_lowercase :\n",
    "            answer += s.upper()\n",
    "        else :\n",
    "            answer += s.lower()\n",
    "    return answer"
   ]
  },
  {
   "cell_type": "code",
   "execution_count": 2,
   "metadata": {},
   "outputs": [],
   "source": [
    "# 다른 사람의 풀이\n",
    "def solution(my_string):\n",
    "    return my_string.swapcase()"
   ]
  },
  {
   "cell_type": "markdown",
   "metadata": {},
   "source": [
    "# swapcase 메소드\n",
    "\n",
    "swapcase()는 문자열 안의 대문자를 소문자로 소문자를 대문자로 변환해주는 메소드이다."
   ]
  }
 ],
 "metadata": {
  "kernelspec": {
   "display_name": "base",
   "language": "python",
   "name": "python3"
  },
  "language_info": {
   "codemirror_mode": {
    "name": "ipython",
    "version": 3
   },
   "file_extension": ".py",
   "mimetype": "text/x-python",
   "name": "python",
   "nbconvert_exporter": "python",
   "pygments_lexer": "ipython3",
   "version": "3.10.12"
  },
  "orig_nbformat": 4
 },
 "nbformat": 4,
 "nbformat_minor": 2
}
