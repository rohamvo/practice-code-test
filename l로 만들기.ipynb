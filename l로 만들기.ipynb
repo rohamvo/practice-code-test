{
 "cells": [
  {
   "cell_type": "markdown",
   "metadata": {},
   "source": [
    "# l로 만들기\n",
    "\n",
    "알파벳 소문자로 이루어진 문자열 myString이 주어집니다. 알파벳 순서에서 \"l\"보다 앞서는 모든 문자를 \"l\"로 바꾼 문자열을 return 하는 solution 함수를 완성해 주세요.\n",
    "\n",
    "제한사항\n",
    "- 1 ≤ myString ≤ 100,000\n",
    "    - myString은 알파벳 소문자로 이루어진 문자열입니다.\n",
    "\n",
    "입출력 예)\n",
    "myString = \"abcdevwxyz\" / result = \"lllllvwxyz\"\n",
    "myString = \"jjnnllkkmm\" / result = \"llnnllllmm\""
   ]
  },
  {
   "cell_type": "code",
   "execution_count": null,
   "metadata": {},
   "outputs": [],
   "source": [
    "# 내가 작성한 풀이\n",
    "def solution(myString):\n",
    "    return ''.join(['l' if s < 'l' else s for s in myString])"
   ]
  },
  {
   "cell_type": "code",
   "execution_count": 1,
   "metadata": {},
   "outputs": [],
   "source": [
    "# 다른 사람의 풀이\n",
    "def solution(myString):\n",
    "    return myString.translate(str.maketrans('abcdefghijk', 'lllllllllll'))"
   ]
  },
  {
   "cell_type": "markdown",
   "metadata": {},
   "source": [
    "# maketrans 와 translate를 활용한 풀이\n",
    "\n",
    "translate는 본적 있지만 maketrans 메소드는 처음 보았다.\n",
    "\n",
    "maketrans는 문자열 일부를 지정 문자로 대체 정의하는 테이블을 생성하는 메소드이다.\n",
    "\n",
    "알파벳 순서에서 'l' 이전의 모든 알파벳을 'abcdefghijk'로 작성하고 모두 l로 매핑하여 풀어낸 풀이이다."
   ]
  }
 ],
 "metadata": {
  "kernelspec": {
   "display_name": "base",
   "language": "python",
   "name": "python3"
  },
  "language_info": {
   "codemirror_mode": {
    "name": "ipython",
    "version": 3
   },
   "file_extension": ".py",
   "mimetype": "text/x-python",
   "name": "python",
   "nbconvert_exporter": "python",
   "pygments_lexer": "ipython3",
   "version": "3.10.12"
  },
  "orig_nbformat": 4
 },
 "nbformat": 4,
 "nbformat_minor": 2
}
