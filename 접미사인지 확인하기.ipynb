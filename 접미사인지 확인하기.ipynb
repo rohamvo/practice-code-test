{
 "cells": [
  {
   "cell_type": "markdown",
   "metadata": {},
   "source": [
    "# 접미사인지 확인하기\n",
    "\n",
    "어떤 문자열에 대해서 접미사는 특정 인덱스부터 시작하는 문자열을 의미합니다. 예를 들어, \"banana\"의 모든 접미사는 \"banana\", \"anana\", \"nana\", \"ana\", \"na\", \"a\"입니다.\n",
    "문자열 my_string과 is_suffix가 주어질 때, is_suffix가 my_string의 접미사라면 1을, 아니면 0을 return 하는 solution 함수를 작성해 주세요.\n",
    "\n",
    "\n",
    "입출력 예)\n",
    "- my_string = \"banana\", is_suffix = \"ana\" / result = 1\n",
    "- my_string = \"banana\", is_suffix = \"nan\" / result = 0\n",
    "- my_string = \"banana\", is_suffix = \"wxyz\" / result = 0\n",
    "- my_string = \"banana\", is_suffix = \"abanana\" / result = 0"
   ]
  },
  {
   "cell_type": "code",
   "execution_count": 2,
   "metadata": {},
   "outputs": [],
   "source": [
    "# 내가 작성한 풀이\n",
    "def solution(my_string, is_suffix):\n",
    "    return int(is_suffix in sorted([my_string[i:] for i in range(len(my_string))])) or 0"
   ]
  },
  {
   "cell_type": "code",
   "execution_count": 3,
   "metadata": {},
   "outputs": [],
   "source": [
    "# 다른 사람의 풀이\n",
    "def solution(my_string, is_suffix):\n",
    "    return int(my_string.endswith(is_suffix))"
   ]
  },
  {
   "cell_type": "markdown",
   "metadata": {},
   "source": [
    "# endswith!\n",
    "처음 보는 메소드이다.\n",
    "\n",
    "endswith란?\n",
    "\n",
    "문자열이 지정 문자열로 끝나는지 확인해주는 것\n",
    "- 범위를 정하여 문자열 부분 체크가 가능하다.\n",
    "- 대소문자 확인 가능하다.\n",
    "- string.endswith(value,start,end) / value = 끝나는 문자열 / start , end = 범위 시작 위치, 범위 종료 위치\n",
    "\n",
    "is_suffix로 끝나는지 확인하는 문제 이기때문에 최적의 메소드인것!"
   ]
  },
  {
   "cell_type": "code",
   "execution_count": 5,
   "metadata": {},
   "outputs": [
    {
     "name": "stdout",
     "output_type": "stream",
     "text": [
      "True\n"
     ]
    }
   ],
   "source": [
    "# 범위 지정 확인 예제\n",
    "\n",
    "a = \"rohamvo\"\n",
    "b = a.endswith(\"ha\",1,4)\n",
    "print(b)"
   ]
  },
  {
   "cell_type": "markdown",
   "metadata": {},
   "source": [
    "# startswith !\n",
    "\n",
    "endswith와 유사한 기능을 갖고 있지만 역시 처음 보는 메소드이다.\n",
    "\n",
    "startswith란?\n",
    "\n",
    "전반적으로 endswith랑 비슷하나 시작지점을 확인하는것이 정반대이다.\n",
    "\n",
    "문자열이 지정 문자열로 시작했는지 확인해주는 것\n",
    "\n",
    "- 범위를 정하여 문자열 부분 체크가 가능하다.\n",
    "- 대소문자 확인 가능하다.\n",
    "- string.startswith(value,start,end) / value = 끝나는 문자열 / start , end = 범위 시작 위치, 범위 종료 위치"
   ]
  },
  {
   "cell_type": "code",
   "execution_count": 6,
   "metadata": {},
   "outputs": [
    {
     "name": "stdout",
     "output_type": "stream",
     "text": [
      "True\n"
     ]
    }
   ],
   "source": [
    "# 범위 지정 확인 예제\n",
    "\n",
    "a = \"rohamvo\"\n",
    "b = a.startswith(\"am\",3,6)\n",
    "print(b)"
   ]
  }
 ],
 "metadata": {
  "kernelspec": {
   "display_name": "base",
   "language": "python",
   "name": "python3"
  },
  "language_info": {
   "codemirror_mode": {
    "name": "ipython",
    "version": 3
   },
   "file_extension": ".py",
   "mimetype": "text/x-python",
   "name": "python",
   "nbconvert_exporter": "python",
   "pygments_lexer": "ipython3",
   "version": "3.10.12"
  },
  "orig_nbformat": 4
 },
 "nbformat": 4,
 "nbformat_minor": 2
}
