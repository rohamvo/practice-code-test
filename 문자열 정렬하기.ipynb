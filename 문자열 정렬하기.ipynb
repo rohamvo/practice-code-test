{
 "cells": [
  {
   "cell_type": "markdown",
   "metadata": {},
   "source": [
    "# 문자열 정렬하기(1)\n",
    "\n",
    "문자열 my_string이 매개변수로 주어질 때, my_string 안에 있는 숫자만 골라 오름차순 정렬한 리스트를 return 하도록 solution 함수를 작성해보세요.\n",
    "\n",
    "제한사항\n",
    "- 1 ≤ my_string의 길이 ≤ 100\n",
    "- my_string에는 숫자가 한 개 이상 포함되어 있습니다.\n",
    "- my_string은 영어 소문자 또는 0부터 9까지의 숫자로 이루어져 있습니다.\n",
    "\n",
    "입출력 예)\n",
    "- my_string = \"hi12392\" / result = [1, 2, 2, 3, 9]\n",
    "- my_string = \"p2o4i8gj2\" / result = [2, 2, 4, 8]\n",
    "- my_string = \"abcde0\" / result = [0]"
   ]
  },
  {
   "cell_type": "code",
   "execution_count": 1,
   "metadata": {},
   "outputs": [],
   "source": [
    "# 내가 작성한 풀이\n",
    "def solution(my_string):\n",
    "    num = []\n",
    "    for s in my_string :\n",
    "        try :\n",
    "            int(s)\n",
    "            num.append(int(s))\n",
    "        except :\n",
    "            pass\n",
    "    return sorted(num)"
   ]
  },
  {
   "cell_type": "code",
   "execution_count": null,
   "metadata": {},
   "outputs": [],
   "source": [
    "# 다른 사람의 풀이\n",
    "def solution(my_string):\n",
    "    return sorted([int(c) for c in my_string if c.isdigit()])"
   ]
  },
  {
   "cell_type": "markdown",
   "metadata": {},
   "source": [
    "# isdigit() 메소드\n",
    "\n",
    "x.isdigit() 은 x 문자열에 숫자만 담겨있다면 True를 반환하고 문자가 단 하나라도 있다면 False를 반환하는 메소드이다.\n",
    "\n",
    "위 풀이에서는 컴프리헨션 조건문에서 숫자인지 확인하고 int를 통해 정수로 변환하여 리스트에 담아냈다."
   ]
  }
 ],
 "metadata": {
  "kernelspec": {
   "display_name": "base",
   "language": "python",
   "name": "python3"
  },
  "language_info": {
   "codemirror_mode": {
    "name": "ipython",
    "version": 3
   },
   "file_extension": ".py",
   "mimetype": "text/x-python",
   "name": "python",
   "nbconvert_exporter": "python",
   "pygments_lexer": "ipython3",
   "version": "3.10.12"
  },
  "orig_nbformat": 4
 },
 "nbformat": 4,
 "nbformat_minor": 2
}
