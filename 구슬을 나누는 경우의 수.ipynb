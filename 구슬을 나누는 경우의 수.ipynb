{
 "cells": [
  {
   "cell_type": "markdown",
   "metadata": {},
   "source": [
    "# 구슬을 나누는 경우의 수\n",
    "\n",
    "머쓱이는 구슬을 친구들에게 나누어주려고 합니다. 구슬은 모두 다르게 생겼습니다. 머쓱이가 갖고 있는 구슬의 개수 balls와 친구들에게 나누어 줄 구슬 개수 share이 매개변수로 주어질 때, balls개의 구슬 중 share개의 구슬을 고르는 가능한 모든 경우의 수를 return 하는 solution 함수를 완성해주세요.\n",
    "\n",
    "제한사항\n",
    "- 1 ≤ balls ≤ 30\n",
    "- 1 ≤ share ≤ 30\n",
    "- 구슬을 고르는 순서는 고려하지 않습니다.\n",
    "- share ≤ balls\n",
    "\n",
    "입출력 예)\n",
    "balls = 3 / share = 2 / result = 3\n",
    "balls = 5 / share = 3 / result = 10"
   ]
  },
  {
   "cell_type": "code",
   "execution_count": 1,
   "metadata": {},
   "outputs": [],
   "source": [
    "# 내가 작성한 풀이\n",
    "\n",
    "# 1차 풀이\n",
    "from functools import reduce\n",
    "def solution(balls, share):\n",
    "    d = list(range(1,balls+1))[:-(balls-share)-1:-1]\n",
    "    d = reduce(lambda x, y : x * y, d)\n",
    "    m = list(range(1,balls-share+1))\n",
    "    m = reduce(lambda x, y : x * y, m)\n",
    "    return d/m\n",
    "# 수열을 만들어서 누적곱을 이용해 풀 문제여서 reduce를 이용했는데 런타임 에러가 발생해서 코드를 수정했다.\n",
    "\n",
    "# 2차 풀이\n",
    "def solution(balls, share) :\n",
    "    n = 1\n",
    "    m = 1\n",
    "    s = 1\n",
    "    for i in range(1,balls+1) :\n",
    "        n = n*i\n",
    "    for j in range(1,share+1) :\n",
    "        m = m*j\n",
    "    for k in range(1,balls-share+1) :\n",
    "        s = s*k\n",
    "        \n",
    "    return n / (m*s)\n",
    "\n",
    "# 코드의 계산 복잡도가 높아서 발생한것으로 보여서 최대한 간결하게 표현하였고 통과하였다."
   ]
  },
  {
   "cell_type": "code",
   "execution_count": 2,
   "metadata": {},
   "outputs": [],
   "source": [
    "# 다른사람의 풀이\n",
    "import math\n",
    "\n",
    "def solution(balls, share):\n",
    "    return math.comb(balls, share)"
   ]
  },
  {
   "cell_type": "markdown",
   "metadata": {},
   "source": [
    "# math 라이브러리의 comb\n",
    "\n",
    "math 라이브러리는 여러번 사용해봤지만 comb는 처음 보았다.\n",
    "\n",
    "## comb란?\n",
    "math.comb(a,b)를 사용하면 a개에서 b개의 서로 다른 조합을 만들 수 있는 경우의 수를 return한다."
   ]
  },
  {
   "cell_type": "code",
   "execution_count": 6,
   "metadata": {},
   "outputs": [
    {
     "data": {
      "text/plain": [
       "3"
      ]
     },
     "execution_count": 6,
     "metadata": {},
     "output_type": "execute_result"
    }
   ],
   "source": [
    "# 예시\n",
    "math.comb(3,2)"
   ]
  },
  {
   "cell_type": "code",
   "execution_count": 5,
   "metadata": {},
   "outputs": [
    {
     "data": {
      "text/plain": [
       "10"
      ]
     },
     "execution_count": 5,
     "metadata": {},
     "output_type": "execute_result"
    }
   ],
   "source": [
    "math.comb(5,3)"
   ]
  }
 ],
 "metadata": {
  "kernelspec": {
   "display_name": "base",
   "language": "python",
   "name": "python3"
  },
  "language_info": {
   "codemirror_mode": {
    "name": "ipython",
    "version": 3
   },
   "file_extension": ".py",
   "mimetype": "text/x-python",
   "name": "python",
   "nbconvert_exporter": "python",
   "pygments_lexer": "ipython3",
   "version": "3.10.12"
  },
  "orig_nbformat": 4
 },
 "nbformat": 4,
 "nbformat_minor": 2
}
