{
 "cells": [
  {
   "cell_type": "markdown",
   "metadata": {},
   "source": [
    "# 7의 개수\n",
    "\n",
    "머쓱이는 행운의 숫자 7을 가장 좋아합니다. 정수 배열 array가 매개변수로 주어질 때, 7이 총 몇 개 있는지 return 하도록 solution 함수를 완성해보세요.\n",
    "\n",
    "제한사항\n",
    "- 1 ≤ array의 길이 ≤ 100\n",
    "- 0 ≤ array의 원소 ≤ 100,000\n",
    "\n",
    "입출력 예)\n",
    "- array = [7, 77, 17] / result = 4\n",
    "- array = [10, 29] / result = 0"
   ]
  },
  {
   "cell_type": "code",
   "execution_count": 1,
   "metadata": {},
   "outputs": [],
   "source": [
    "# 내가 작성한 풀이\n",
    "def solution(array):\n",
    "    answer = 0\n",
    "    for n in array :\n",
    "        for i in str(n) :\n",
    "            if i == \"7\" :\n",
    "                answer += 1\n",
    "    return answer"
   ]
  },
  {
   "cell_type": "code",
   "execution_count": 2,
   "metadata": {},
   "outputs": [],
   "source": [
    "# 다른 사람의 풀이\n",
    "def solution(array):\n",
    "    return str(array).count('7')"
   ]
  },
  {
   "cell_type": "markdown",
   "metadata": {},
   "source": [
    "# count() 메소드\n",
    "\n",
    "count() 메소드만 떠올리면 쉽게 풀 수 있는 문제였다.."
   ]
  }
 ],
 "metadata": {
  "kernelspec": {
   "display_name": "base",
   "language": "python",
   "name": "python3"
  },
  "language_info": {
   "codemirror_mode": {
    "name": "ipython",
    "version": 3
   },
   "file_extension": ".py",
   "mimetype": "text/x-python",
   "name": "python",
   "nbconvert_exporter": "python",
   "pygments_lexer": "ipython3",
   "version": "3.10.12"
  },
  "orig_nbformat": 4
 },
 "nbformat": 4,
 "nbformat_minor": 2
}
