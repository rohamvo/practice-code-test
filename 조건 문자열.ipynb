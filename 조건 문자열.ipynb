{
 "cells": [
  {
   "attachments": {},
   "cell_type": "markdown",
   "metadata": {},
   "source": [
    "# 조건 문자열\n",
    "\n",
    "문자열에 따라 다음과 같이 두 수의 크기를 비교하려고 합니다.\n",
    "\n",
    "두 수가 n과 m이라면\n",
    "\">\", \"=\" : n >= m\n",
    "\"<\", \"=\" : n <= m\n",
    "\">\", \"!\" : n > m\n",
    "\"<\", \"!\" : n < m\n",
    "두 문자열 ineq와 eq가 주어집니다. ineq는 \"<\"와 \">\"중 하나고, eq는 \"=\"와 \"!\"중 하나입니다. 그리고 두 정수 n과 m이 주어질 때, n과 m이 ineq와 eq의 조건에 맞으면 1을 아니면 0을 return하도록 solution 함수를 완성해주세요."
   ]
  },
  {
   "cell_type": "code",
   "execution_count": null,
   "metadata": {},
   "outputs": [],
   "source": [
    "# 내가 작성한 풀이\n",
    "def solution(ineq, eq, n, m):\n",
    "    answer = 0\n",
    "    if ineq == '>' and eq == '=' :\n",
    "        answer = int(n >= m)\n",
    "    elif ineq == '<' and eq == '=' :\n",
    "        answer = int(n <= m)\n",
    "    elif ineq == '>' and eq =='!' :\n",
    "        answer = int(n > m)\n",
    "    elif ineq == '<' and eq == '!' :\n",
    "        answer = int(n < m)\n",
    "    return answer"
   ]
  },
  {
   "cell_type": "code",
   "execution_count": null,
   "metadata": {},
   "outputs": [],
   "source": [
    "# 다른 사람의 풀이\n",
    "def solution(ineq, eq, n, m):\n",
    "    return int(eval(str(n)+ineq+eq.replace('!', '')+str(m)))"
   ]
  },
  {
   "attachments": {},
   "cell_type": "markdown",
   "metadata": {},
   "source": [
    "eval 이라는 함수는 처음 보았다.\n",
    "eval 함수란?\n",
    "- 매개변수로 받은 식을 문자열로 받아서, 실행하는 함수\n",
    "쉽게 예를 들자면\n",
    "eval(\"5+3\")이면 8이라는 값을 반환한다!\n",
    "따라서\n",
    "\n",
    "int(eval(str(n)+ineq+eq.replace('!', '')+str(m)))\n",
    "=\n",
    "정수형 변환(eval(문자열로 변환 된 n + 부등호 + 등호 에서 필요없는 '!'와 공백 제거 후 + 문자열로 변환된 m))\n",
    "eval 함수에서 True, False 값 반환 후 int() 로 인해 True 는 1, False 는 0 반환으로 이해 할 수 있다!"
   ]
  }
 ],
 "metadata": {
  "kernelspec": {
   "display_name": "base",
   "language": "python",
   "name": "python3"
  },
  "language_info": {
   "name": "python",
   "version": "3.10.9"
  },
  "orig_nbformat": 4
 },
 "nbformat": 4,
 "nbformat_minor": 2
}
